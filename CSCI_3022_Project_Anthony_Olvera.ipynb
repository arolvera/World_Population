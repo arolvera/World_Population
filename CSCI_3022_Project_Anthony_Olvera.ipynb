{
 "cells": [
  {
   "cell_type": "markdown",
   "metadata": {},
   "source": [
    "<figure>\n",
    "  <IMG SRC=\"https://www.colorado.edu/cs/profiles/express/themes/cuspirit/logo.png\" WIDTH=70 ALIGN=\"right\">\n",
    "</figure>\n",
    "# CSCI 3022 Project Spring 2018\n",
    "# Prediction of World Population and Contributing Factors\n",
    "# Anthony Olvera"
   ]
  },
  {
   "cell_type": "code",
   "execution_count": 1,
   "metadata": {},
   "outputs": [
    {
     "ename": "ModuleNotFoundError",
     "evalue": "No module named 'seaborn'",
     "output_type": "error",
     "traceback": [
      "\u001b[1;31m---------------------------------------------------------------------------\u001b[0m",
      "\u001b[1;31mModuleNotFoundError\u001b[0m                       Traceback (most recent call last)",
      "\u001b[1;32m<ipython-input-1-2a2bdd5cd90c>\u001b[0m in \u001b[0;36m<module>\u001b[1;34m()\u001b[0m\n\u001b[0;32m      6\u001b[0m \u001b[1;32mimport\u001b[0m \u001b[0mscipy\u001b[0m\u001b[1;33m.\u001b[0m\u001b[0mstats\u001b[0m \u001b[1;32mas\u001b[0m \u001b[0mstats\u001b[0m\u001b[1;33m\u001b[0m\u001b[0m\n\u001b[0;32m      7\u001b[0m \u001b[1;32mimport\u001b[0m \u001b[0mmatplotlib\u001b[0m\u001b[1;33m.\u001b[0m\u001b[0mpyplot\u001b[0m \u001b[1;32mas\u001b[0m \u001b[0mplt\u001b[0m\u001b[1;33m\u001b[0m\u001b[0m\n\u001b[1;32m----> 8\u001b[1;33m \u001b[1;32mimport\u001b[0m \u001b[0mseaborn\u001b[0m \u001b[1;32mas\u001b[0m \u001b[0msns\u001b[0m\u001b[1;33m\u001b[0m\u001b[0m\n\u001b[0m\u001b[0;32m      9\u001b[0m \u001b[1;32mimport\u001b[0m \u001b[0mstatsmodels\u001b[0m\u001b[1;33m.\u001b[0m\u001b[0mformula\u001b[0m\u001b[1;33m.\u001b[0m\u001b[0mapi\u001b[0m \u001b[1;32mas\u001b[0m \u001b[0msmf\u001b[0m\u001b[1;33m\u001b[0m\u001b[0m\n\u001b[0;32m     10\u001b[0m \u001b[1;32mimport\u001b[0m \u001b[0mstatsmodels\u001b[0m\u001b[1;33m.\u001b[0m\u001b[0mapi\u001b[0m \u001b[1;32mas\u001b[0m \u001b[0msm\u001b[0m\u001b[1;33m\u001b[0m\u001b[0m\n",
      "\u001b[1;31mModuleNotFoundError\u001b[0m: No module named 'seaborn'"
     ]
    }
   ],
   "source": [
    "# Import all libraries with data manipulation and statistical utilities that may be needed\n",
    "%matplotlib inline\n",
    "import numpy as np\n",
    "import pandas as pd;\n",
    "import scipy as sp\n",
    "import scipy.stats as stats\n",
    "import matplotlib.pyplot as plt\n",
    "import seaborn as sns\n",
    "import statsmodels.formula.api as smf\n",
    "import statsmodels.api as sm\n",
    "import patsy"
   ]
  },
  {
   "cell_type": "markdown",
   "metadata": {},
   "source": [
    "### Problem Statement"
   ]
  },
  {
   "cell_type": "markdown",
   "metadata": {},
   "source": [
    "It is a known fact backed up by data that the world’s population is currently increasing at an exponential rate. Many people worry that this could be a contributing factor to many global scale problems such as pollution, climate change, shortage of natural resources etc. My hypothesis is that even though population is increasing at the moment certain limiting factors will instead constrain population growth in such a way that the increase will begin to decelerate and eventually plateau in the next few decades. Such a growth is called logistic growth. The main limiting factors on population growth can include food, water, hospitable living space, and ability to recycle waste. However two major constraints on a country's population growth are its Development Index and Gross Domestic Product. These two factors and their effects on population growth will be analysed using data sets from https://www.gapminder.org/. In my analysis I will conduct a regression study in order to cast a future prediction on  population growth.     "
   ]
  },
  {
   "cell_type": "markdown",
   "metadata": {},
   "source": [
    "### Summary of Factors "
   ]
  },
  {
   "cell_type": "markdown",
   "metadata": {},
   "source": [
    "The total_population dataset contains the total population of countries around the world from the year 1800 through 2015. The data was collected via census and will be compared against all of the following factors. The invidual factors I will be analyzing will be Human Development Index, and Gross Domestic Product per capita. Other datasets I have obtained include birth rate and population growth percentage. These data sets a more so abstractions of the total population data and I will use them to indentify correlations they may exist with the other factors.   "
   ]
  },
  {
   "cell_type": "code",
   "execution_count": null,
   "metadata": {},
   "outputs": [],
   "source": [
    "# A preview of the raw total_population data set\n",
    "pop = pd.read_csv('total_population.csv')\n",
    "pop.head()"
   ]
  },
  {
   "cell_type": "markdown",
   "metadata": {},
   "source": [
    "Upon a visual analysis the following countries have no population data so those rows will be removed from the data frame. Abkhazia, Ngorno-Karabakh, Northern Cyprus, Somaliland, South Ossetia, Transnistria St. Martin (French part), Antarctica, Bouvet Island, British Indian Ocean Territory, Clipperton, French Southern and Antarctic Lands, Gaza Strip, Heard and McDonald Islands, Northern Marianas, South Georgia and the South Sandwich Islands, US Minor Outlying Islands, Virgin Islands, and West Bank."
   ]
  },
  {
   "cell_type": "code",
   "execution_count": null,
   "metadata": {},
   "outputs": [],
   "source": [
    "# drop nan rows\n",
    "pop = pop.dropna(thresh = 2);\n",
    "\n",
    "# Convert to the proper data type. \n",
    "pop = pop.convert_objects(convert_numeric=True);\n",
    "\n",
    "# Sum over all countries and produce a plot of total population over time.\n",
    "years = [1800,1810,1820,1830,1840,1850,1860,1870,1880,1890,1900,1910,1920,1930,1940,1950,1951,1952,1953,1954,1955,1956,1957,\n",
    "         1958,1959,1960,1961,1962,1963,1964,1965,1966,1967,1968,1969,1970,1971,1972,1973,1974,1975,1976,1977,1978,1979,1980,\n",
    "         1981,1982,1983,1984,1985,1986,1987,1988,1989,1990,1991,1992,1993,1994,1995,1996,1997,1998,1999,2000,2001,2002,2003,\n",
    "         2004,2005,2006,2007,2008,2009,2010,2011,2012,2013,2014,2015]\n",
    "\n",
    "total_pop = pop.sum(numeric_only=True);\n",
    "plt.figure(figsize=(15,8))\n",
    "plt.plot(years, total_pop);\n",
    "plt.title('Total World Population')\n",
    "plt.xlabel('Year')\n",
    "plt.ylabel('Total Population (Billions)');"
   ]
  },
  {
   "cell_type": "markdown",
   "metadata": {},
   "source": [
    "It is clear that up to the year 2015 that the rate of population growth is still increasing. The dip at the year 2008 is because there is missing data for a number of countries after this year I will remove the following countries from the data in order to obtain a better curve. Akrotiri and Dhekelia, Albania, Czechoslovakia, East Germany, Eritrea and Ethiopia, Estonia, Guarnessy, Jersey, United Korea, Kosovo, St. Martain, Serbia and Montenegro, Serbia excluding Kosovo, Svalbard, Turkey, United Korea Former, USSR, Nort Yemen, South Yemen, West Germany and Yugoslavia."
   ]
  },
  {
   "cell_type": "code",
   "execution_count": null,
   "metadata": {},
   "outputs": [],
   "source": [
    "pop = pop.drop([2,3,58,63,69,70,91,111,116,118,119,191,200,201,216,232,242,248,252,253,255,258])\n",
    "total_pop = pop.sum(numeric_only=True);\n",
    "plt.figure(figsize=(15,8))\n",
    "plt.plot(years, total_pop);\n",
    "plt.title('Total World Population')\n",
    "plt.xlabel('Year')\n",
    "plt.ylabel('Total Population (Billions)');"
   ]
  },
  {
   "cell_type": "markdown",
   "metadata": {},
   "source": [
    "### Individual Factors"
   ]
  },
  {
   "cell_type": "markdown",
   "metadata": {},
   "source": [
    "The first factor I'm expecting to have an effect on population growth is Human Development Index. This dataset came from The United Nation Development Programme http://hdr.undp.org/en/data It contains the quantitative HDI indicator for many countries around the world from the year 1980. As HDI is a reletivley new statistc this data set is quite small similar to the GDP data set. In additon it does not contain data from every year up until the year 2005 so I will need to use interpolation to fill in the missing data. Like the other data sets it also contains a few NaN rows for various countries so it will require clever parsing and cleaning as well.\n",
    "\n",
    "The second factor is Gross Domestic Product. I will use this data set as a measure of a country's industrial development. This dataset came from the world bank data base https://data.worldbank.org/indicator/NY.GDP.PCAP.KD.ZG. Im hypothesising that countries with higher GDP will have lower birth rates than countries with lower industrial development indicators, hence we should see a negative correlation. The data contains one categorical attribute (country) and two quantitative (GDP and year). This data set tends to be quite sparse and only dates back to 1960 so an obvious reduction will be done when analysing these factors."
   ]
  },
  {
   "cell_type": "markdown",
   "metadata": {},
   "source": [
    "### Distribution Analysis"
   ]
  },
  {
   "cell_type": "markdown",
   "metadata": {},
   "source": [
    "For any given year I would assume that population along with all factors that affect it will fit an exponetial distribution. I will plot a histogram and a quanitle-quantile plot for the year 2015 for the total population data. "
   ]
  },
  {
   "cell_type": "code",
   "execution_count": null,
   "metadata": {},
   "outputs": [],
   "source": [
    "# Histogram of each country's population for the year 2015\n",
    "pop.dropna(subset = ['2015'])\n",
    "pop.hist(column = '2015', grid = False, figsize =(15,8), bins = 100);"
   ]
  },
  {
   "cell_type": "markdown",
   "metadata": {},
   "source": [
    "The data seems to be highley skewed to the right. Its dificult to see but there are two countries to the far right with very high populations.Im assuming these are China and india I will remove these outliers from the data. "
   ]
  },
  {
   "cell_type": "code",
   "execution_count": null,
   "metadata": {},
   "outputs": [],
   "source": [
    "stats.probplot(pop['1960'], dist = stats.expon(1), plot = plt);"
   ]
  },
  {
   "cell_type": "markdown",
   "metadata": {},
   "source": [
    "With China and India removed."
   ]
  },
  {
   "cell_type": "code",
   "execution_count": null,
   "metadata": {},
   "outputs": [],
   "source": [
    "pop = pop.drop([44, 101])\n",
    "stats.probplot(pop['1960'], dist = stats.expon(1), plot = plt);"
   ]
  },
  {
   "cell_type": "markdown",
   "metadata": {},
   "source": [
    "It's not a perfect fit however it is the closest probability distribution for the data."
   ]
  },
  {
   "cell_type": "markdown",
   "metadata": {},
   "source": [
    "Next I will use histograms to analyse the distributions of my two individual factors HDI and GDP. I suspect to see the data normally distributed across each country.  "
   ]
  },
  {
   "cell_type": "code",
   "execution_count": null,
   "metadata": {},
   "outputs": [],
   "source": [
    "# Read the data\n",
    "hdi = pd.read_csv('HDI_indicator.csv')\n",
    "# Drop NaN rows\n",
    "hdi = hdi.dropna(thresh=10)\n",
    "# Convert To proper data type\n",
    "hdi = hdi.convert_objects(convert_numeric=True);\n",
    "# Reindex\n",
    "hdi = hdi.set_index('Country')\n",
    "gdp = pd.read_csv('GDP_percapita.csv')\n",
    "gdp = gdp.dropna(thresh=53)\n",
    "gdp = gdp.convert_objects(convert_numeric = True);\n",
    "gdp = gdp.set_index('Country')\n",
    "# Plot Histograms\n",
    "gdp.hist(column = '2011', grid = False, bins = 50);\n",
    "hdi.hist(column = '2011', grid = False, bins = 50);"
   ]
  },
  {
   "cell_type": "markdown",
   "metadata": {},
   "source": [
    "To my surprize GDP for each country appears to also fit an exponential distribution in the year 2011, however HDI appears to be random, not fitting any specific distribution.  "
   ]
  },
  {
   "cell_type": "markdown",
   "metadata": {},
   "source": [
    "### Correlation"
   ]
  },
  {
   "cell_type": "markdown",
   "metadata": {
    "collapsed": true
   },
   "source": [
    "The strongest correlation I would expect to see first is between HDI and birth rate. I would expect developing countries to have the highest birth rates therefore we should see a negative correlation between HDI and birthrate. Below I concatanate the birthrate and the HDI datasets in order to more easily model the data. I will create a scatter plot with a linear regression model to fit the data. Note the year 2010 is missing from the dataset. "
   ]
  },
  {
   "cell_type": "code",
   "execution_count": null,
   "metadata": {},
   "outputs": [],
   "source": [
    "# Merge HDI with Birthrate\n",
    "xticks = np.linspace(0.25,0.95,10)\n",
    "hdi = pd.read_csv('HDI_indicator.csv')\n",
    "brate = pd.read_csv('birth_rate.csv')\n",
    "brate=brate[['Country','1980','1990','2000','2005', '2006','2007', '2008', '2009', '2011']]\n",
    "hdi = hdi.convert_objects(convert_numeric=True);\n",
    "brate = brate.convert_objects(convert_numeric=True);\n",
    "hdi = hdi.set_index('Country')\n",
    "brate = brate.set_index('Country')\n",
    "joined  = pd.concat([hdi,brate], axis =1, join = 'inner')\n",
    "joined.columns = [ '1980h','1990h','2000h','2005h', '2006h','2007h', '2008h', '2009h',\n",
    "               'h2011','1980b','1990b','2000b','2005b', '2006b','2007b', '2008b', '2009b', 'b2011']\n",
    "\n",
    "# Create the linear Regression Model \n",
    "lmodel = smf.ols(formula = 'b2011~h2011', data = joined).fit()\n",
    "beta0,beta1 = lmodel.params\n",
    "\n",
    "# Plot the model to overlay the scatter plot\n",
    "plt.figure(figsize=(15,8))\n",
    "plt.scatter(x= joined['h2011'], y = joined['b2011']);\n",
    "plt.plot(xticks, beta0 + beta1*xticks, lw =3, c = 'r')\n",
    "plt.title('HDI vs. Birthrate for Countries in 2011');\n",
    "plt.xlabel('Human Development Index');\n",
    "plt.ylabel('Birth rate per 1000 women');"
   ]
  },
  {
   "cell_type": "markdown",
   "metadata": {},
   "source": [
    "There is a clear negative correlation as expected. The data is fit with a linear regression model given by the following summary."
   ]
  },
  {
   "cell_type": "code",
   "execution_count": null,
   "metadata": {},
   "outputs": [],
   "source": [
    "lmodel.summary()"
   ]
  },
  {
   "cell_type": "markdown",
   "metadata": {},
   "source": [
    "And the following formula."
   ]
  },
  {
   "cell_type": "markdown",
   "metadata": {},
   "source": [
    "$$ Y \\sim \\beta_0 + \\beta_1 X_1 $$\n",
    "\n",
    "\n",
    "$$ Birthrate \\sim \\beta_0 + \\beta_1 HDI $$\n",
    " "
   ]
  },
  {
   "cell_type": "code",
   "execution_count": null,
   "metadata": {},
   "outputs": [],
   "source": [
    "print('Our Model is:  Birthrate = ', beta0, '+', beta1, '*HDI')"
   ]
  },
  {
   "cell_type": "markdown",
   "metadata": {},
   "source": [
    "I will do the same for Gross domestic product however I dont expect as strong of a correlation. I will use a non linear model to fit the data "
   ]
  },
  {
   "cell_type": "code",
   "execution_count": null,
   "metadata": {},
   "outputs": [],
   "source": [
    "# Merge GDP and Birthrate\n",
    "xticks = np.linspace(-1035,53000,100)\n",
    "gdp = pd.read_csv('GDP_percapita.csv')\n",
    "brate = pd.read_csv('birth_rate.csv')\n",
    "brate.drop(brate.columns.to_series()[\"1800\":\"1959\"], axis=1)\n",
    "brate.drop(brate.columns.to_series()[\"2012\":], axis=1)\n",
    "gdp = gdp.convert_objects(convert_numeric = True);\n",
    "gdp.columns = ['g' + str(col) for col in gdp.columns]\n",
    "gdp.rename(columns={'gCountry':'Country'}, inplace=True)\n",
    "brate = brate.convert_objects(convert_numeric = True);\n",
    "brate.columns = ['b' + str(col) for col in brate.columns]\n",
    "brate.rename(columns={'bCountry':'Country'}, inplace=True)\n",
    "gdp = gdp.set_index('Country')\n",
    "brate = brate.set_index('Country')\n",
    "joined1  = pd.concat([gdp,brate], axis =1, join = 'inner')\n",
    "\n",
    "# Quadratic model R-squared = 0.424\n",
    "qmodel = smf.ols('b2011~g2011 + np.power(g2011, 2)', joined1).fit()\n",
    "\n",
    "# Log-log model, best fit, R-squared = 0.615\n",
    "lmodel = smf.ols('np.log(b2011) ~ np.log(g2011)', joined1).fit()\n",
    "\n",
    "# Plot the data and the model \n",
    "plt.figure(figsize=(15,8))\n",
    "plt.scatter(x= joined1['g2011'], y = joined1['b2011'], c = 'r');\n",
    "plt.plot(xticks,  np.exp(lmodel.params[0] + np.log(xticks) * lmodel.params[1]),  lw=3);\n",
    "plt.title('GDP per capita vs. Birthrate for Countries in 2011');\n",
    "plt.xlabel('Gross Domestic Product');\n",
    "plt.ylabel('Birth rate per 1000 women');"
   ]
  },
  {
   "cell_type": "markdown",
   "metadata": {},
   "source": [
    "This correlation doesent appear to be linear but it does expose an evident trend. Ive found a log-log model to best fit the data. Below is the model summary and eqaution using the corelation coefficents for the data."
   ]
  },
  {
   "cell_type": "code",
   "execution_count": null,
   "metadata": {},
   "outputs": [],
   "source": [
    "lmodel.summary()"
   ]
  },
  {
   "cell_type": "markdown",
   "metadata": {},
   "source": [
    "$$ Birthrate = \\exp( \\beta_0 + \\beta_1 \\log(GDP) ) = \\exp(\\beta_0) * \\exp(\\beta_1 \\log(GDP) ) $$"
   ]
  },
  {
   "cell_type": "code",
   "execution_count": null,
   "metadata": {},
   "outputs": [],
   "source": [
    "print('Our Model is:  Birthrate = exp(',lmodel.params[0], ') * exp(',lmodel.params[1] ,'* log(GDP))')"
   ]
  },
  {
   "cell_type": "markdown",
   "metadata": {
    "collapsed": true
   },
   "source": [
    "Seeing as we have negative correlations between birthrate and human development Index in addition to birthrate with gross domestic product this would mean that if the gross domestic product of developing countries is increasing, it would be reasonable to belive the  populations are stabalizing as well. "
   ]
  },
  {
   "cell_type": "code",
   "execution_count": null,
   "metadata": {},
   "outputs": [],
   "source": [
    "# Clean the data by slicing all rows containing any NaN values.\n",
    "hdi = hdi.dropna(thresh=9)"
   ]
  },
  {
   "cell_type": "markdown",
   "metadata": {},
   "source": [
    "Upon visual inspection of the data it appears that for nearley all countries HDI is increasing as the years pass. Below I will produce a plot of all countries HDI from 1980 to 2011."
   ]
  },
  {
   "cell_type": "code",
   "execution_count": null,
   "metadata": {},
   "outputs": [],
   "source": [
    "plt.figure(figsize=(15,8))\n",
    "plt.title('Year vs. HDI for all countries')\n",
    "plt.xlabel('Year')\n",
    "plt.ylabel('Human Development Index')\n",
    "\n",
    "# Plot the curve for each country in the dataframe\n",
    "for i in range(len(hdi)):\n",
    "    plt.plot(hdi.iloc[i])"
   ]
  },
  {
   "cell_type": "markdown",
   "metadata": {},
   "source": [
    "For the most part, an upward trend can be seen for most countries, however the plot is slightley cluttered, In addition the plateau is due to the data points being more sparsely distributed in the earlier years. In reality we would see a linear increase. Below I will plot HDI only for a few countries with a low initial value. For these I've choosen Indonesia, India and Nepal. "
   ]
  },
  {
   "cell_type": "code",
   "execution_count": null,
   "metadata": {},
   "outputs": [],
   "source": [
    "plt.figure(figsize=(15,8))\n",
    "\n",
    "# Produce plot for above three countries\n",
    "plt.plot(hdi.loc['Indonesia']);\n",
    "plt.plot(hdi.loc['India']);\n",
    "plt.plot(hdi.loc['Nepal']);\n",
    "plt.title('Year vs. HDI for selected Countries')\n",
    "plt.xlabel('Year')\n",
    "plt.ylabel('Human Development Index');\n",
    "plt.legend();"
   ]
  },
  {
   "cell_type": "markdown",
   "metadata": {},
   "source": [
    "Now the GDP for the same three countries"
   ]
  },
  {
   "cell_type": "code",
   "execution_count": null,
   "metadata": {},
   "outputs": [],
   "source": [
    "# Re-read and clean the data\n",
    "gdp = pd.read_csv('GDP_percapita.csv')\n",
    "gdp = gdp.dropna(thresh=53)\n",
    "gdp = gdp.convert_objects(convert_numeric = True);\n",
    "gdp = gdp.set_index('Country')\n",
    "\n",
    "# Produce plot\n",
    "plt.figure(figsize=(15,8))\n",
    "plt.plot(gdp.loc['Indonesia']);\n",
    "plt.plot(gdp.loc['India']);\n",
    "plt.plot(gdp.loc['Nepal']);\n",
    "plt.title('Year vs. GDP for selected Countries')\n",
    "plt.xlabel('Year')\n",
    "plt.ylabel('Gross Domestic Product');\n",
    "plt.legend();"
   ]
  },
  {
   "cell_type": "markdown",
   "metadata": {},
   "source": [
    "### Conclusion"
   ]
  },
  {
   "cell_type": "markdown",
   "metadata": {},
   "source": [
    "We've known for a fact now that the world population has been increasing since the early 18th century, In addition we also know that at present the rate of population growth is also increasing. However two major factors, Human Development Index and Gross Domestic Product, have shown to be correlated with these trends. Because most countries are still in the early stages of development we continue to see world population grow. However in this analysis weve seen that as there are obvious negative correlations between birthrate and and HDI as well as birthrate and GDP, and furthermore GDP and HDI are increasing for most countries around the world. Therefore weve reached the conclusion that, if these trends continue, then world population growth must eventually slow and eventually stabilize in the comming years.  "
   ]
  }
 ],
 "metadata": {
  "celltoolbar": "Raw Cell Format",
  "kernelspec": {
   "display_name": "Python 3",
   "language": "python",
   "name": "python3"
  },
  "language_info": {
   "codemirror_mode": {
    "name": "ipython",
    "version": 3
   },
   "file_extension": ".py",
   "mimetype": "text/x-python",
   "name": "python",
   "nbconvert_exporter": "python",
   "pygments_lexer": "ipython3",
   "version": "3.7.0"
  }
 },
 "nbformat": 4,
 "nbformat_minor": 2
}
